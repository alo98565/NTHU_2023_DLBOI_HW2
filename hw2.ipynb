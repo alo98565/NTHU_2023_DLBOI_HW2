{
  "cells": [
    {
      "cell_type": "markdown",
      "metadata": {
        "id": "Li0bVCTuxc6n"
      },
      "source": [
        "<div align=\"center\">\n",
        "\n",
        "# National Tsing Hua University\n",
        "\n",
        "### Fall 2023\n",
        "\n",
        "#### 11210IPT 553000\n",
        "\n",
        "#### Deep Learning in Biomedical Optical Imaging\n",
        "\n",
        "## Homework 2\n",
        "\n",
        "</div>\n"
      ]
    },
    {
      "cell_type": "markdown",
      "metadata": {
        "tags": [],
        "id": "TLBKtdwqWV_3"
      },
      "source": [
        "### ✏️ Task A: Transitioning to Cross-Entropy Loss (20 pts)\n",
        "\n",
        "In Lab, we utilized the **Binary Cross-Entropy (BCE) Loss** for a binary classification task. The BCE loss is articulated as:\n",
        "\n",
        "$$ \\text{BCE}(y, \\hat{y}) = - \\left( y \\log(\\hat{y}) + (1 - y) \\log(1 - \\hat{y}) \\right) $$\n",
        "\n",
        "Here, $y$ is the true label (0 or 1), and $\\hat{y}$ denotes the predicted probability of $y=1$.\n",
        "\n",
        "In this task, we aim to explore the implementation of a model using **Cross-Entropy (CE) Loss**, which is a more common approach for classification tasks, especially when dealing with multiple classes. CE loss is expressed as:\n",
        "\n",
        "$$ \\text{CE}(y, \\hat{y}) = -\\sum_{i} y^{(i)} \\log(\\hat{y}^{(i)}) $$\n",
        "\n",
        "In this expression, $y$ represents the ground truth labels, $ \\hat{y} $ is the predictions from your model, and $i$ is the index of the class.\n",
        "\n",
        "\n",
        "#### 1. Modify the Loss (3 pts)\n",
        "Transition to using Cross-Entropy (CE) Loss for the classification task by utilizing PyTorch's built-in functionalities. You can refer to the [official PyTorch documentation](https://pytorch.org/docs/stable/nn.html) for detailed information and guidance to ensure the correct implementation of the CE loss."
      ]
    },
    {
      "cell_type": "code",
      "execution_count": null,
      "metadata": {
        "id": "WoHylk24WV_3"
      },
      "outputs": [],
      "source": [
        "import torch.nn as nn\n",
        "\n",
        "# Replace '...' with the appropriate loss function in PyTorch\n",
        "loss = nn.CrossEntropyLoss"
      ]
    },
    {
      "cell_type": "markdown",
      "metadata": {
        "id": "7otO2c8GWV_4"
      },
      "source": [
        "#### 2. Modify the Model Architecture (2 pts)\n",
        "To adapt the original code for use with Cross-Entropy (CE) loss, make necessary modifications to the model architecture. Ensure it is compatible and optimized for the application of CE loss. Consider the number of output nodes and the activation function used in the output layer for effective multi-class classification."
      ]
    },
    {
      "cell_type": "code",
      "execution_count": null,
      "metadata": {
        "colab": {
          "base_uri": "https://localhost:8080/"
        },
        "id": "qhS7XwPGWV_4",
        "outputId": "3f853cab-334e-44eb-da51-3a48f152c2bb"
      },
      "outputs": [
        {
          "output_type": "stream",
          "name": "stdout",
          "text": [
            "Sequential(\n",
            "  (0): Flatten(start_dim=1, end_dim=-1)\n",
            "  (1): Linear(in_features=65536, out_features=256, bias=True)\n",
            "  (2): ReLU()\n",
            "  (3): Linear(in_features=256, out_features=5, bias=True)\n",
            ")\n"
          ]
        }
      ],
      "source": [
        "# Modifying the architecture to be compatible with CE loss\n",
        "ce_model = nn.Sequential(\n",
        "    nn.Flatten(),          #將輸入的多維向量轉成一維向量\n",
        "    nn.Linear(256*256*1, 256),   #輸入特徵數量 輸出特徵數量\n",
        "    nn.ReLU(),            #激活函數，增強模型表示能力\n",
        "    nn.Linear(256, 5)        #(256,1)→(256,n) n=5 分類中實際分類的類別數\n",
        " ).cuda()\n",
        "\n",
        "print(ce_model)"
      ]
    },
    {
      "cell_type": "markdown",
      "metadata": {
        "tags": [],
        "id": "kNMZoDB1WV_4"
      },
      "source": [
        "#### 3. Reflection Questions (15 pts, 5 pts for each)\n",
        "Provide detailed answers to the questions below:\n",
        "\n",
        "**Q1. Loss Function Comparison:**  \n",
        "   What are the differences between Binary Cross-Entropy (BCE) loss and Cross-Entropy (CE) loss?\n",
        "\n",
        "**Q2. Model Architecture Modification:**  \n",
        "   What motivated the specific changes you made to the model architecture?\n",
        "\n",
        "**Q3. Adapting to CE Loss:**  \n",
        "   In the original code configured for BCE loss, two major adjustments are needed for adaptation to CE loss. Analyze and explain the necessity for these changes, referring to the code below.\n",
        "\n",
        "```python\n",
        "for images, labels in train_loader:\n",
        "    images = images.cuda()\n",
        "    images = images / 255.0\n",
        "    labels = labels.cuda()\n",
        "    optimizer.zero_grad()\n",
        "    outputs = model(images)\n",
        "\n",
        "    # Change #1: Adaptation to the labels for CE loss\n",
        "    labels = labels.long()  # Changed from labels.float().unsqueeze(1) for BCE loss\n",
        "\n",
        "    loss = criterion(outputs, labels)\n",
        "    loss.backward()\n",
        "    optimizer.step()\n",
        "    total_loss += loss.item()\n",
        "\n",
        "    # Change #2: Predictions for CE loss\n",
        "    train_predicted = outputs.argmax(-1)  # Changed from torch.sigmoid(outputs) > 0.5 for BCE loss\n",
        "    train_correct += (train_predicted == labels).sum().item()\n",
        "```"
      ]
    },
    {
      "cell_type": "markdown",
      "metadata": {
        "id": "m3ZQ3s4-WV_5"
      },
      "source": [
        "#### Put Your Response Here:\n",
        "\n",
        "##### 1. 交叉熵適用於多分類問題，例如圖像、語音識別;而二元交叉熵則適用於二元分類問題，例如垃圾郵件檢測、感情分析。\n",
        "\n",
        "##### 2. 由於BCE和CE對於特徵分類不同，依據要考慮的分類數多寡，將output layer改成所需的分類數量。\n",
        "\n",
        "##### 3. Change1 : BCE loss屬於二元分類，以機率表示標籤，標籤表示以float(1.0 or 0機率)作表示歸類；而CE loss屬於多類別分類，確保標籤能被視為個類別索引，標籤表示以整數表示，通常以Long作為資料型態。\n",
        "##### Change2 : BCE loss以sigmoid作為激活函數，並以0.5作為閥值預測類別。如果輸出大於0.5為正類，小於0.5為負類。而CE屬於多類別分類，要預測類別，則必須從所有類別中選出機率最高的類別，透過使用outputs.argmax(-1)，實現獲得最高機率的索引類別。"
      ]
    },
    {
      "cell_type": "markdown",
      "metadata": {
        "id": "tJJwZr1GWV_5"
      },
      "source": [
        "### ✏️ Task B: Creating an Evaluation Code (20 pts)\n",
        "\n",
        "Evaluate the performance of a pretrained deep learning model with a test dataset of chest X-ray images available in `test_normal.npy` and `test_pneumonia.npy` files. These files respectively contain 200 grayscale normal and pneumonia chest X-ray images, each of size 256×256. The objective is to calculate the model’s accuracy, defined as the percentage of images correctly classified. To accomplish this, you are tasked to write code that loads, processes, and evaluates the model on this specific dataset. Ensure each segment of code replacing the `...` placeholders is functional and aligns with the steps provided in the instructions.\n",
        "\n",
        "**Note: ⚠️ Ensure to upload your trained model's weights to your working environment if needed.**"
      ]
    },
    {
      "cell_type": "markdown",
      "metadata": {
        "id": "iACx8pocWV_5"
      },
      "source": [
        "### Step 0: Download test dataset"
      ]
    },
    {
      "cell_type": "code",
      "execution_count": null,
      "metadata": {
        "id": "3x2UaFwcWV_5",
        "colab": {
          "base_uri": "https://localhost:8080/"
        },
        "outputId": "83175c2e-3c8b-4ca7-9b5f-79dd83b267be"
      },
      "outputs": [
        {
          "output_type": "stream",
          "name": "stdout",
          "text": [
            "--2023-10-13 05:20:02--  https://raw.githubusercontent.com/TacoXDD/homeworks/master/dataset/test/test_normal.npy\n",
            "Resolving raw.githubusercontent.com (raw.githubusercontent.com)... 185.199.109.133, 185.199.110.133, 185.199.111.133, ...\n",
            "Connecting to raw.githubusercontent.com (raw.githubusercontent.com)|185.199.109.133|:443... connected.\n",
            "HTTP request sent, awaiting response... 200 OK\n",
            "Length: 13107328 (12M) [application/octet-stream]\n",
            "Saving to: ‘test_normal.npy’\n",
            "\n",
            "test_normal.npy     100%[===================>]  12.50M  --.-KB/s    in 0.1s    \n",
            "\n",
            "2023-10-13 05:20:02 (120 MB/s) - ‘test_normal.npy’ saved [13107328/13107328]\n",
            "\n",
            "--2023-10-13 05:20:02--  https://raw.githubusercontent.com/TacoXDD/homeworks/master/dataset/test/test_pneumonia.npy\n",
            "Resolving raw.githubusercontent.com (raw.githubusercontent.com)... 185.199.108.133, 185.199.109.133, 185.199.110.133, ...\n",
            "Connecting to raw.githubusercontent.com (raw.githubusercontent.com)|185.199.108.133|:443... connected.\n",
            "HTTP request sent, awaiting response... 200 OK\n",
            "Length: 13107328 (12M) [application/octet-stream]\n",
            "Saving to: ‘test_pneumonia.npy’\n",
            "\n",
            "test_pneumonia.npy  100%[===================>]  12.50M  --.-KB/s    in 0.1s    \n",
            "\n",
            "2023-10-13 05:20:03 (113 MB/s) - ‘test_pneumonia.npy’ saved [13107328/13107328]\n",
            "\n"
          ]
        }
      ],
      "source": [
        "!wget https://raw.githubusercontent.com/TacoXDD/homeworks/master/dataset/test/test_normal.npy\n",
        "!wget https://raw.githubusercontent.com/TacoXDD/homeworks/master/dataset/test/test_pneumonia.npy"
      ]
    },
    {
      "cell_type": "markdown",
      "metadata": {
        "id": "OHd2u2MCWV_5"
      },
      "source": [
        "### Step 1: Prepare your test dataset"
      ]
    },
    {
      "cell_type": "code",
      "execution_count": null,
      "metadata": {
        "id": "UWPPZkw0WV_5",
        "colab": {
          "base_uri": "https://localhost:8080/"
        },
        "outputId": "12269f01-d587-4611-8488-321bed6070dd"
      },
      "outputs": [
        {
          "output_type": "stream",
          "name": "stdout",
          "text": [
            "Shape of test_abnormal: (200, 256, 256)\n",
            "Shape of test_normal: (200, 256, 256)\n",
            "Shape of x_test: (400, 256, 256)\n",
            "Shape of y_test: (400,)\n"
          ]
        }
      ],
      "source": [
        "import numpy as np\n",
        "\n",
        "test_abnormal = np.load('test_pneumonia.npy')\n",
        "test_normal = np.load('test_normal.npy')\n",
        "\n",
        "print(f'Shape of test_abnormal: {test_abnormal.shape}')\n",
        "print(f'Shape of test_normal: {test_normal.shape}')\n",
        "\n",
        "# For the data having presence of pneumonia assign 1, for the normal ones assign 0.\n",
        "test_abnormal_labels = np.ones((test_abnormal.shape[0],))\n",
        "test_normal_labels = np.zeros((test_normal.shape[0],))\n",
        "\n",
        "x_test = np.concatenate((test_abnormal, test_normal), axis=0)\n",
        "y_test = np.concatenate((test_abnormal_labels, test_normal_labels), axis=0)\n",
        "\n",
        "print(f'Shape of x_test: {x_test.shape}')\n",
        "print(f'Shape of y_test: {y_test.shape}')"
      ]
    },
    {
      "cell_type": "markdown",
      "metadata": {
        "id": "tKCyGE0nWV_6"
      },
      "source": [
        "### Step 2: Load Test Images into PyTorch DataLoader (5 pts)"
      ]
    },
    {
      "cell_type": "code",
      "execution_count": null,
      "metadata": {
        "id": "aL3vJPPfWV_6",
        "colab": {
          "base_uri": "https://localhost:8080/"
        },
        "outputId": "82923d43-965b-4b81-bfb0-e24e98616b92"
      },
      "outputs": [
        {
          "output_type": "stream",
          "name": "stdout",
          "text": [
            "Number of samples in train and validation are 400.\n",
            "X_train: max value is 255.0, min value is 0.0, data type is torch.float32.\n"
          ]
        }
      ],
      "source": [
        "import torch\n",
        "from torch.utils.data import DataLoader, TensorDataset, random_split\n",
        "\n",
        "# Convert to PyTorch tensors\n",
        "x_test = torch.from_numpy(x_test).float()\n",
        "y_test = torch.from_numpy(y_test).long()\n",
        "\n",
        "# Combine the images and labels into a dataset\n",
        "test_dataset = TensorDataset(x_test, y_test)\n",
        "\n",
        "# Create a dataloader to load data in batches. Set batch size to 32.\n",
        "test_loader = DataLoader(test_dataset, batch_size=32, shuffle=True)\n",
        "\n",
        "print(f'Number of samples in train and validation are {len(test_loader.dataset)}.')\n",
        "print(f'X_train: max value is {x_test.max().item()}, min value is {x_test.min().item()}, data type is {x_test.dtype}.')"
      ]
    },
    {
      "cell_type": "markdown",
      "metadata": {
        "id": "fEKqbQWiWV_6"
      },
      "source": [
        "### Step 3: Prepare Your Trained Model  (5 pts)\n",
        "- Define the architecture to match exactly with the trained model intended for inference. Ensure strict alignment to avoid errors during evaluation.\n",
        "- Load the weights from the trained model and set the model to evaluation mode"
      ]
    },
    {
      "cell_type": "code",
      "execution_count": null,
      "metadata": {
        "id": "_397SF75WV_6"
      },
      "outputs": [],
      "source": [
        "# Declare the model architecture\n",
        "model = nn.Sequential(\n",
        "    nn.Flatten(),\n",
        "    nn.Linear(256*256*1, 256),\n",
        "    nn.ReLU(),\n",
        "    nn.Linear(256, 1)\n",
        ").cuda()\n",
        "\n",
        "# Load the trained weights\n",
        "model.load_state_dict(torch.load('model_classification.pth'))\n",
        "\n",
        "# Set the model to evaluation mode\n",
        "model.eval()"
      ]
    },
    {
      "cell_type": "markdown",
      "metadata": {
        "id": "k4ZkrPLDWV_6"
      },
      "source": [
        "### Step 4: Perform Inference and Calculate the Accuracy (10 pts)\n",
        "- Ensure the image values are processed in a manner consistent with the training phase.\n",
        "- Use the model that was trained with BCE loss to execute inference on the test dataset.\n",
        "- Note that inference should be performed in GPU."
      ]
    },
    {
      "cell_type": "code",
      "execution_count": null,
      "metadata": {
        "id": "OIYZRXP3WV_6"
      },
      "outputs": [],
      "source": [
        "test_correct = 0\n",
        "test_total = 0\n",
        "\n",
        "with torch.no_grad():\n",
        "    for images, labels in test_loader:\n",
        "\n",
        "        images = images.cuda()\n",
        "        images = images / 255.\n",
        "\n",
        "        labels = labels.cuda()\n",
        "\n",
        "        outputs = model(images)\n",
        "\n",
        "        labels_float = labels.float().unsqueeze(1)  # Convert labels to float and match shape with outputs\n",
        "        predicted = torch.sigmoid(outputs) > 0.5\n",
        "\n",
        "        test_correct += (predicted.float() == labels_float).sum().item()\n",
        "        test_total += labels.size(0)\n",
        "\n",
        "print(f'Test accuracy is {100. * test_correct / test_total:.2f}%.')"
      ]
    },
    {
      "cell_type": "code",
      "source": [
        "test_correct = 0\n",
        "test_total = 0\n",
        "\n",
        "with torch.no_grad():\n",
        "    for images, labels in test_loader:\n",
        "\n",
        "        images = images.cuda()\n",
        "        images = images / 255.\n",
        "\n",
        "        labels = labels.cuda()\n",
        "\n",
        "        outputs = model(images)\n",
        "\n",
        "        labels_float = labels.float().unsqueeze(1)  # Convert labels to float and match shape with outputs\n",
        "        predicted = torch.sigmoid(outputs) > 0.5\n",
        "\n",
        "        test_correct += (predicted.float() == labels_float).sum().item()\n",
        "        test_total += labels.size(0)\n",
        "\n",
        "print(f'Test accuracy is {100. * test_correct / test_total:.2f}%.')"
      ],
      "metadata": {
        "id": "NLGYlU2VtBe8",
        "colab": {
          "base_uri": "https://localhost:8080/"
        },
        "outputId": "905b680e-c49b-4b50-dbd6-1b3ad54b1f3c"
      },
      "execution_count": null,
      "outputs": [
        {
          "output_type": "stream",
          "name": "stdout",
          "text": [
            "Test accuracy is 50.00%.\n"
          ]
        }
      ]
    },
    {
      "cell_type": "markdown",
      "source": [
        "#CE"
      ],
      "metadata": {
        "id": "_ysMNc42P_eX"
      }
    },
    {
      "cell_type": "code",
      "source": [
        "# # Download dataset\n",
        "!wget https://raw.githubusercontent.com/TacoXDD/homeworks/master/dataset/train/normal.npy\n",
        "!wget https://raw.githubusercontent.com/TacoXDD/homeworks/master/dataset/train/pneumonia.npy\n",
        "import torch\n",
        "from torch.utils.data import DataLoader, TensorDataset, random_split\n",
        "\n",
        "import numpy as np\n",
        "\n",
        "# Load Dataset\n",
        "abnormal_scans = np.load('pneumonia.npy')\n",
        "normal_scans = np.load('normal.npy')\n",
        "\n",
        "print(f'Shape of abnormal_scans: {abnormal_scans.shape}')\n",
        "print(f'Shape of normal_scans: {normal_scans.shape}')\n",
        "\n",
        "# For the data having presence of pneumonia assign 1, for the normal ones assign 0.\n",
        "\n",
        "abnormal_labels = np.ones((abnormal_scans.shape[0],))\n",
        "normal_labels = np.zeros((normal_scans.shape[0],))\n",
        "\n",
        "split_point = 800\n",
        "\n",
        "x_train = np.concatenate((abnormal_scans[:split_point], normal_scans[:split_point]), axis=0)\n",
        "y_train = np.concatenate((abnormal_labels[:split_point], normal_labels[:split_point]), axis=0)\n",
        "x_val = np.concatenate((abnormal_scans[split_point:], normal_scans[split_point:]), axis=0)\n",
        "y_val = np.concatenate((abnormal_labels[split_point:], normal_labels[split_point:]), axis=0)\n",
        "\n",
        "# Convert to PyTorch tensors\n",
        "x_train = torch.from_numpy(x_train).float()\n",
        "y_train = torch.from_numpy(y_train).long()\n",
        "x_val = torch.from_numpy(x_val).float()\n",
        "y_val = torch.from_numpy(y_val).long()\n",
        "\n",
        "# Create datasets\n",
        "train_dataset = TensorDataset(x_train, y_train)\n",
        "val_dataset = TensorDataset(x_val, y_val)\n",
        "\n",
        "# Create dataloaders\n",
        "train_loader = DataLoader(train_dataset, batch_size=32, shuffle=True)\n",
        "val_loader = DataLoader(val_dataset, batch_size=32, shuffle=False)\n",
        "\n",
        "print(f'Number of samples in train and validation are {len(train_loader.dataset)} and {len(val_loader.dataset)}.')\n",
        "print(f'X_train: max value is {x_train.max().item()}, min value is {x_train.min().item()}, data type is {x_train.dtype}.')"
      ],
      "metadata": {
        "colab": {
          "base_uri": "https://localhost:8080/"
        },
        "id": "kXqiCTk9QDaZ",
        "outputId": "e7387091-ae78-4e2f-b0d0-6d319fcf99c4"
      },
      "execution_count": null,
      "outputs": [
        {
          "output_type": "stream",
          "name": "stdout",
          "text": [
            "--2023-10-15 13:04:36--  https://raw.githubusercontent.com/TacoXDD/homeworks/master/dataset/train/normal.npy\n",
            "Resolving raw.githubusercontent.com (raw.githubusercontent.com)... 185.199.108.133, 185.199.109.133, 185.199.110.133, ...\n",
            "Connecting to raw.githubusercontent.com (raw.githubusercontent.com)|185.199.108.133|:443... connected.\n",
            "HTTP request sent, awaiting response... 200 OK\n",
            "Length: 65536128 (62M) [application/octet-stream]\n",
            "Saving to: ‘normal.npy.1’\n",
            "\n",
            "normal.npy.1        100%[===================>]  62.50M   333MB/s    in 0.2s    \n",
            "\n",
            "2023-10-15 13:04:36 (333 MB/s) - ‘normal.npy.1’ saved [65536128/65536128]\n",
            "\n",
            "--2023-10-15 13:04:36--  https://raw.githubusercontent.com/TacoXDD/homeworks/master/dataset/train/pneumonia.npy\n",
            "Resolving raw.githubusercontent.com (raw.githubusercontent.com)... 185.199.108.133, 185.199.109.133, 185.199.110.133, ...\n",
            "Connecting to raw.githubusercontent.com (raw.githubusercontent.com)|185.199.108.133|:443... connected.\n",
            "HTTP request sent, awaiting response... 200 OK\n",
            "Length: 65536128 (62M) [application/octet-stream]\n",
            "Saving to: ‘pneumonia.npy.1’\n",
            "\n",
            "pneumonia.npy.1     100%[===================>]  62.50M   284MB/s    in 0.2s    \n",
            "\n",
            "2023-10-15 13:04:37 (284 MB/s) - ‘pneumonia.npy.1’ saved [65536128/65536128]\n",
            "\n",
            "Shape of abnormal_scans: (1000, 256, 256)\n",
            "Shape of normal_scans: (1000, 256, 256)\n",
            "Number of samples in train and validation are 1600 and 400.\n",
            "X_train: max value is 255.0, min value is 0.0, data type is torch.float32.\n"
          ]
        }
      ]
    },
    {
      "cell_type": "code",
      "source": [
        "import torch.nn as nn\n",
        "\n",
        "# Model in Lab 2\n",
        "# model = nn.Sequential(\n",
        "#     nn.Flatten(),\n",
        "#     nn.Linear(256*256*1, 256),\n",
        "#     nn.ReLU(),\n",
        "#     nn.Linear(256, 1)\n",
        "# ).cuda()\n",
        "\n",
        "model = nn.Sequential(\n",
        "    nn.Flatten(),\n",
        "\n",
        "    nn.Linear(256*256*1, 64),\n",
        "    nn.BatchNorm1d(64),\n",
        "    nn.ReLU(),\n",
        "    nn.Dropout(0.5),\n",
        "\n",
        "    nn.Linear(64, 64),\n",
        "    nn.BatchNorm1d(64),\n",
        "    nn.ReLU(),\n",
        "    nn.Dropout(0.5),\n",
        "\n",
        "    nn.Linear(64, 64),\n",
        "    nn.BatchNorm1d(64),\n",
        "    nn.ReLU(),\n",
        "    nn.Dropout(0.5),\n",
        "\n",
        "    nn.Linear(64, 3)\n",
        ").cuda()\n",
        "\n",
        "print(model)"
      ],
      "metadata": {
        "colab": {
          "base_uri": "https://localhost:8080/"
        },
        "id": "Ka2Q2qNKQNab",
        "outputId": "5c6ac6d2-1b9d-4ede-942c-38067613a867"
      },
      "execution_count": null,
      "outputs": [
        {
          "output_type": "stream",
          "name": "stdout",
          "text": [
            "Sequential(\n",
            "  (0): Flatten(start_dim=1, end_dim=-1)\n",
            "  (1): Linear(in_features=65536, out_features=64, bias=True)\n",
            "  (2): BatchNorm1d(64, eps=1e-05, momentum=0.1, affine=True, track_running_stats=True)\n",
            "  (3): ReLU()\n",
            "  (4): Dropout(p=0.5, inplace=False)\n",
            "  (5): Linear(in_features=64, out_features=64, bias=True)\n",
            "  (6): BatchNorm1d(64, eps=1e-05, momentum=0.1, affine=True, track_running_stats=True)\n",
            "  (7): ReLU()\n",
            "  (8): Dropout(p=0.5, inplace=False)\n",
            "  (9): Linear(in_features=64, out_features=64, bias=True)\n",
            "  (10): BatchNorm1d(64, eps=1e-05, momentum=0.1, affine=True, track_running_stats=True)\n",
            "  (11): ReLU()\n",
            "  (12): Dropout(p=0.5, inplace=False)\n",
            "  (13): Linear(in_features=64, out_features=3, bias=True)\n",
            ")\n"
          ]
        }
      ]
    },
    {
      "cell_type": "code",
      "source": [
        "#C Tarining the Neural Network\n",
        "\n",
        "import torch.optim as optim\n",
        "from torch.optim.lr_scheduler import CosineAnnealingLR, StepLR\n",
        "\n",
        "train_losses = []\n",
        "val_losses = []\n",
        "train_accuracies = []\n",
        "val_accuracies = []\n",
        "\n",
        "epochs = 100\n",
        "best_val_loss = float('inf')\n",
        "\n",
        "# Criterion and Optimizer\n",
        "criterion = nn.CrossEntropyLoss()             #nn.BCEWithLogitsLoss→nn.CrossEntropyLoss\n",
        "optimizer = optim.Adam(model.parameters(), lr=1e-5)\n",
        "lr_scheduler = CosineAnnealingLR(optimizer, T_max=len(train_loader)*epochs, eta_min=0)\n",
        "# lr_scheduler = StepLR(optimizer, step_size=5, gamma=0.1)\n",
        "\n",
        "for epoch in range(epochs):\n",
        "    # Training\n",
        "    model.train()\n",
        "    total_loss = 0.0\n",
        "    train_correct = 0\n",
        "    total_train_samples = 0\n",
        "\n",
        "    for images, labels in train_loader:\n",
        "        images = images.cuda()\n",
        "        images = images / 255.\n",
        "        labels = labels.cuda()\n",
        "        optimizer.zero_grad()\n",
        "        outputs = model(images)\n",
        "\n",
        "        labels = labels.long()              # Changed from labels.float().unsqueeze(1) for BCE loss\n",
        "\n",
        "        loss = criterion(outputs, labels)\n",
        "        loss.backward()\n",
        "        optimizer.step()\n",
        "        total_loss += loss.item()\n",
        "\n",
        "        train_predicted = outputs.argmax(-1)       # Changed from torch.sigmoid(outputs) > 0.5 for BCE loss\n",
        "        train_correct += (train_predicted.float() == labels).sum().item()\n",
        "        total_train_samples += labels.size(0)\n",
        "\n",
        "    avg_train_loss = total_loss / len(train_loader)\n",
        "    train_accuracy = 100. * train_correct / total_train_samples\n",
        "\n",
        "    # Validation\n",
        "    model.eval()\n",
        "    total_val_loss = 0.0\n",
        "    correct = 0\n",
        "    total = 0\n",
        "    with torch.no_grad():\n",
        "        for images, labels in train_loader:\n",
        "            images = images.cuda()\n",
        "            images = images / 255.\n",
        "            labels = labels.cuda()\n",
        "            outputs = model(images)\n",
        "\n",
        "            labels = labels.long()              # Changed from labels.float().unsqueeze(1) for BCE loss\n",
        "\n",
        "            loss = criterion(outputs, labels)\n",
        "            total_val_loss += loss.item()\n",
        "\n",
        "            train_predicted = outputs.argmax(-1)      # Changed from torch.sigmoid(outputs) > 0.5 for BCE loss\n",
        "            correct += (train_predicted.float() == labels).sum().item()\n",
        "            total += labels.size(0)\n",
        "\n",
        "    avg_val_loss = total_val_loss / len(val_loader)\n",
        "    val_accuracy = 100. * correct / total\n",
        "\n",
        "    print(f'Epoch {epoch+1}/{epochs}, Train Loss: {avg_train_loss:.4f}, Train Accuracy: {train_accuracy:.2f}%, Val Loss: {avg_val_loss:.4f}, Val Accuracy: {val_accuracy:.2f}%')\n",
        "\n",
        "    # Learning rate update\n",
        "    lr_scheduler.step()\n",
        "\n",
        "    # Checkpoint\n",
        "    if avg_val_loss < best_val_loss:\n",
        "        best_val_loss = avg_val_loss\n",
        "        torch.save(model.state_dict(), 'model_classification01.pth')\n",
        "\n",
        "    # Store performance\n",
        "    train_losses.append(avg_train_loss)\n",
        "    train_accuracies.append(train_accuracy)\n",
        "    val_losses.append(avg_val_loss)\n",
        "    val_accuracies.append(val_accuracy)\n"
      ],
      "metadata": {
        "colab": {
          "base_uri": "https://localhost:8080/"
        },
        "id": "Zgp-_b2NQO5r",
        "outputId": "4f8909bc-ef51-499c-e8fc-93610939a919"
      },
      "execution_count": null,
      "outputs": [
        {
          "output_type": "stream",
          "name": "stdout",
          "text": [
            "Epoch 1/100, Train Loss: 1.0405, Train Accuracy: 47.25%, Val Loss: 3.2959, Val Accuracy: 85.69%\n",
            "Epoch 2/100, Train Loss: 0.9702, Train Accuracy: 53.88%, Val Loss: 3.3037, Val Accuracy: 90.44%\n",
            "Epoch 3/100, Train Loss: 0.9320, Train Accuracy: 56.75%, Val Loss: 3.0858, Val Accuracy: 87.19%\n",
            "Epoch 4/100, Train Loss: 0.9073, Train Accuracy: 60.81%, Val Loss: 3.1188, Val Accuracy: 90.00%\n",
            "Epoch 5/100, Train Loss: 0.9045, Train Accuracy: 59.94%, Val Loss: 3.1585, Val Accuracy: 91.06%\n",
            "Epoch 6/100, Train Loss: 0.8835, Train Accuracy: 63.50%, Val Loss: 3.2222, Val Accuracy: 94.06%\n",
            "Epoch 7/100, Train Loss: 0.8617, Train Accuracy: 65.19%, Val Loss: 2.9676, Val Accuracy: 94.62%\n",
            "Epoch 8/100, Train Loss: 0.8359, Train Accuracy: 68.00%, Val Loss: 3.0551, Val Accuracy: 94.56%\n",
            "Epoch 9/100, Train Loss: 0.8414, Train Accuracy: 68.75%, Val Loss: 2.8031, Val Accuracy: 95.12%\n",
            "Epoch 10/100, Train Loss: 0.8069, Train Accuracy: 70.38%, Val Loss: 2.9239, Val Accuracy: 94.38%\n",
            "Epoch 11/100, Train Loss: 0.8009, Train Accuracy: 71.38%, Val Loss: 2.8494, Val Accuracy: 95.00%\n",
            "Epoch 12/100, Train Loss: 0.7907, Train Accuracy: 72.12%, Val Loss: 2.8462, Val Accuracy: 95.38%\n",
            "Epoch 13/100, Train Loss: 0.7653, Train Accuracy: 74.12%, Val Loss: 2.7286, Val Accuracy: 95.50%\n",
            "Epoch 14/100, Train Loss: 0.7633, Train Accuracy: 75.50%, Val Loss: 2.7827, Val Accuracy: 95.69%\n",
            "Epoch 15/100, Train Loss: 0.7601, Train Accuracy: 74.81%, Val Loss: 2.6831, Val Accuracy: 95.25%\n",
            "Epoch 16/100, Train Loss: 0.7449, Train Accuracy: 76.56%, Val Loss: 2.5971, Val Accuracy: 94.81%\n",
            "Epoch 17/100, Train Loss: 0.7199, Train Accuracy: 79.50%, Val Loss: 2.6560, Val Accuracy: 94.50%\n",
            "Epoch 18/100, Train Loss: 0.7195, Train Accuracy: 77.06%, Val Loss: 2.5605, Val Accuracy: 96.06%\n",
            "Epoch 19/100, Train Loss: 0.7066, Train Accuracy: 79.12%, Val Loss: 2.7107, Val Accuracy: 95.88%\n",
            "Epoch 20/100, Train Loss: 0.7056, Train Accuracy: 78.75%, Val Loss: 2.5144, Val Accuracy: 96.12%\n",
            "Epoch 21/100, Train Loss: 0.6812, Train Accuracy: 81.25%, Val Loss: 2.2690, Val Accuracy: 96.12%\n",
            "Epoch 22/100, Train Loss: 0.6570, Train Accuracy: 81.88%, Val Loss: 2.3096, Val Accuracy: 95.38%\n",
            "Epoch 23/100, Train Loss: 0.6701, Train Accuracy: 80.88%, Val Loss: 2.4713, Val Accuracy: 96.00%\n",
            "Epoch 24/100, Train Loss: 0.6711, Train Accuracy: 81.00%, Val Loss: 2.4598, Val Accuracy: 96.25%\n",
            "Epoch 25/100, Train Loss: 0.6438, Train Accuracy: 81.81%, Val Loss: 2.1638, Val Accuracy: 96.44%\n",
            "Epoch 26/100, Train Loss: 0.6395, Train Accuracy: 84.25%, Val Loss: 2.2734, Val Accuracy: 97.00%\n",
            "Epoch 27/100, Train Loss: 0.6227, Train Accuracy: 85.06%, Val Loss: 2.1808, Val Accuracy: 96.50%\n",
            "Epoch 28/100, Train Loss: 0.6195, Train Accuracy: 85.31%, Val Loss: 2.1115, Val Accuracy: 96.62%\n",
            "Epoch 29/100, Train Loss: 0.6041, Train Accuracy: 86.38%, Val Loss: 2.1144, Val Accuracy: 96.38%\n",
            "Epoch 30/100, Train Loss: 0.6047, Train Accuracy: 85.19%, Val Loss: 2.2860, Val Accuracy: 96.69%\n",
            "Epoch 31/100, Train Loss: 0.5840, Train Accuracy: 87.12%, Val Loss: 2.1939, Val Accuracy: 97.38%\n",
            "Epoch 32/100, Train Loss: 0.5798, Train Accuracy: 86.81%, Val Loss: 1.8786, Val Accuracy: 96.75%\n",
            "Epoch 33/100, Train Loss: 0.5638, Train Accuracy: 88.62%, Val Loss: 1.9100, Val Accuracy: 97.38%\n",
            "Epoch 34/100, Train Loss: 0.5710, Train Accuracy: 86.69%, Val Loss: 2.0663, Val Accuracy: 97.19%\n",
            "Epoch 35/100, Train Loss: 0.5421, Train Accuracy: 89.12%, Val Loss: 1.7870, Val Accuracy: 97.50%\n",
            "Epoch 36/100, Train Loss: 0.5414, Train Accuracy: 89.56%, Val Loss: 2.0248, Val Accuracy: 97.00%\n",
            "Epoch 37/100, Train Loss: 0.5307, Train Accuracy: 89.50%, Val Loss: 1.8341, Val Accuracy: 97.06%\n",
            "Epoch 38/100, Train Loss: 0.5367, Train Accuracy: 89.75%, Val Loss: 1.8810, Val Accuracy: 97.44%\n",
            "Epoch 39/100, Train Loss: 0.5171, Train Accuracy: 90.56%, Val Loss: 1.7666, Val Accuracy: 97.50%\n",
            "Epoch 40/100, Train Loss: 0.5103, Train Accuracy: 89.88%, Val Loss: 1.8264, Val Accuracy: 96.56%\n",
            "Epoch 41/100, Train Loss: 0.5054, Train Accuracy: 91.06%, Val Loss: 1.6304, Val Accuracy: 97.69%\n",
            "Epoch 42/100, Train Loss: 0.4963, Train Accuracy: 91.00%, Val Loss: 1.7769, Val Accuracy: 97.69%\n",
            "Epoch 43/100, Train Loss: 0.4869, Train Accuracy: 91.50%, Val Loss: 1.8921, Val Accuracy: 97.88%\n",
            "Epoch 44/100, Train Loss: 0.4825, Train Accuracy: 91.12%, Val Loss: 1.8438, Val Accuracy: 96.06%\n",
            "Epoch 45/100, Train Loss: 0.4764, Train Accuracy: 92.81%, Val Loss: 1.9566, Val Accuracy: 97.44%\n",
            "Epoch 46/100, Train Loss: 0.4590, Train Accuracy: 92.31%, Val Loss: 1.7325, Val Accuracy: 97.75%\n",
            "Epoch 47/100, Train Loss: 0.4549, Train Accuracy: 92.69%, Val Loss: 1.5728, Val Accuracy: 98.31%\n",
            "Epoch 48/100, Train Loss: 0.4368, Train Accuracy: 93.62%, Val Loss: 1.6460, Val Accuracy: 97.75%\n",
            "Epoch 49/100, Train Loss: 0.4467, Train Accuracy: 92.81%, Val Loss: 1.2812, Val Accuracy: 97.44%\n",
            "Epoch 50/100, Train Loss: 0.4303, Train Accuracy: 93.69%, Val Loss: 1.5575, Val Accuracy: 98.44%\n",
            "Epoch 51/100, Train Loss: 0.4354, Train Accuracy: 93.19%, Val Loss: 1.6308, Val Accuracy: 97.69%\n",
            "Epoch 52/100, Train Loss: 0.4256, Train Accuracy: 93.69%, Val Loss: 1.2881, Val Accuracy: 98.44%\n",
            "Epoch 53/100, Train Loss: 0.4164, Train Accuracy: 93.00%, Val Loss: 1.4501, Val Accuracy: 98.25%\n",
            "Epoch 54/100, Train Loss: 0.4076, Train Accuracy: 94.00%, Val Loss: 1.4652, Val Accuracy: 98.06%\n",
            "Epoch 55/100, Train Loss: 0.3992, Train Accuracy: 94.75%, Val Loss: 1.3163, Val Accuracy: 98.31%\n",
            "Epoch 56/100, Train Loss: 0.3912, Train Accuracy: 95.31%, Val Loss: 1.5516, Val Accuracy: 98.75%\n",
            "Epoch 57/100, Train Loss: 0.3900, Train Accuracy: 94.44%, Val Loss: 1.2421, Val Accuracy: 98.88%\n",
            "Epoch 58/100, Train Loss: 0.3729, Train Accuracy: 95.12%, Val Loss: 1.0161, Val Accuracy: 99.00%\n",
            "Epoch 59/100, Train Loss: 0.3747, Train Accuracy: 94.94%, Val Loss: 1.2207, Val Accuracy: 98.31%\n",
            "Epoch 60/100, Train Loss: 0.3660, Train Accuracy: 95.31%, Val Loss: 1.3847, Val Accuracy: 97.81%\n",
            "Epoch 61/100, Train Loss: 0.3652, Train Accuracy: 95.19%, Val Loss: 1.1713, Val Accuracy: 97.62%\n",
            "Epoch 62/100, Train Loss: 0.3638, Train Accuracy: 94.94%, Val Loss: 1.4205, Val Accuracy: 98.25%\n",
            "Epoch 63/100, Train Loss: 0.3563, Train Accuracy: 94.75%, Val Loss: 1.1061, Val Accuracy: 99.12%\n",
            "Epoch 64/100, Train Loss: 0.3475, Train Accuracy: 96.12%, Val Loss: 1.1272, Val Accuracy: 98.69%\n",
            "Epoch 65/100, Train Loss: 0.3363, Train Accuracy: 96.06%, Val Loss: 1.1556, Val Accuracy: 98.69%\n",
            "Epoch 66/100, Train Loss: 0.3436, Train Accuracy: 95.69%, Val Loss: 1.1019, Val Accuracy: 99.31%\n",
            "Epoch 67/100, Train Loss: 0.3406, Train Accuracy: 95.69%, Val Loss: 1.1544, Val Accuracy: 98.81%\n",
            "Epoch 68/100, Train Loss: 0.3242, Train Accuracy: 95.94%, Val Loss: 1.0599, Val Accuracy: 99.31%\n",
            "Epoch 69/100, Train Loss: 0.3194, Train Accuracy: 96.12%, Val Loss: 1.0326, Val Accuracy: 98.69%\n",
            "Epoch 70/100, Train Loss: 0.3040, Train Accuracy: 97.12%, Val Loss: 1.0585, Val Accuracy: 99.38%\n",
            "Epoch 71/100, Train Loss: 0.3178, Train Accuracy: 96.25%, Val Loss: 0.9842, Val Accuracy: 99.19%\n",
            "Epoch 72/100, Train Loss: 0.3039, Train Accuracy: 96.69%, Val Loss: 1.0185, Val Accuracy: 99.31%\n",
            "Epoch 73/100, Train Loss: 0.3075, Train Accuracy: 96.50%, Val Loss: 0.9221, Val Accuracy: 99.25%\n",
            "Epoch 74/100, Train Loss: 0.3000, Train Accuracy: 96.12%, Val Loss: 0.9208, Val Accuracy: 99.06%\n",
            "Epoch 75/100, Train Loss: 0.2944, Train Accuracy: 96.50%, Val Loss: 0.8318, Val Accuracy: 99.50%\n",
            "Epoch 76/100, Train Loss: 0.2834, Train Accuracy: 96.94%, Val Loss: 0.9571, Val Accuracy: 99.44%\n",
            "Epoch 77/100, Train Loss: 0.2827, Train Accuracy: 96.50%, Val Loss: 1.1236, Val Accuracy: 98.00%\n",
            "Epoch 78/100, Train Loss: 0.2767, Train Accuracy: 96.88%, Val Loss: 0.8602, Val Accuracy: 98.62%\n",
            "Epoch 79/100, Train Loss: 0.2661, Train Accuracy: 97.44%, Val Loss: 0.9285, Val Accuracy: 98.00%\n",
            "Epoch 80/100, Train Loss: 0.2705, Train Accuracy: 97.38%, Val Loss: 0.8596, Val Accuracy: 99.75%\n",
            "Epoch 81/100, Train Loss: 0.2700, Train Accuracy: 97.31%, Val Loss: 0.8511, Val Accuracy: 99.44%\n",
            "Epoch 82/100, Train Loss: 0.2682, Train Accuracy: 96.62%, Val Loss: 0.7691, Val Accuracy: 99.88%\n",
            "Epoch 83/100, Train Loss: 0.2687, Train Accuracy: 96.81%, Val Loss: 0.9946, Val Accuracy: 99.75%\n",
            "Epoch 84/100, Train Loss: 0.2451, Train Accuracy: 97.75%, Val Loss: 0.7530, Val Accuracy: 99.75%\n",
            "Epoch 85/100, Train Loss: 0.2385, Train Accuracy: 98.44%, Val Loss: 0.5414, Val Accuracy: 99.94%\n",
            "Epoch 86/100, Train Loss: 0.2397, Train Accuracy: 98.25%, Val Loss: 0.6868, Val Accuracy: 99.81%\n",
            "Epoch 87/100, Train Loss: 0.2325, Train Accuracy: 98.94%, Val Loss: 0.7520, Val Accuracy: 99.81%\n",
            "Epoch 88/100, Train Loss: 0.2321, Train Accuracy: 98.25%, Val Loss: 0.9898, Val Accuracy: 97.12%\n",
            "Epoch 89/100, Train Loss: 0.2312, Train Accuracy: 97.62%, Val Loss: 0.8266, Val Accuracy: 98.62%\n",
            "Epoch 90/100, Train Loss: 0.2275, Train Accuracy: 98.06%, Val Loss: 0.8342, Val Accuracy: 99.56%\n",
            "Epoch 91/100, Train Loss: 0.2105, Train Accuracy: 98.56%, Val Loss: 0.8782, Val Accuracy: 97.69%\n",
            "Epoch 92/100, Train Loss: 0.2140, Train Accuracy: 98.31%, Val Loss: 0.7499, Val Accuracy: 98.62%\n",
            "Epoch 93/100, Train Loss: 0.2077, Train Accuracy: 98.69%, Val Loss: 0.6901, Val Accuracy: 99.94%\n",
            "Epoch 94/100, Train Loss: 0.2108, Train Accuracy: 98.00%, Val Loss: 0.7270, Val Accuracy: 100.00%\n",
            "Epoch 95/100, Train Loss: 0.2065, Train Accuracy: 98.50%, Val Loss: 0.6495, Val Accuracy: 99.56%\n",
            "Epoch 96/100, Train Loss: 0.1972, Train Accuracy: 98.50%, Val Loss: 0.6184, Val Accuracy: 100.00%\n",
            "Epoch 97/100, Train Loss: 0.2028, Train Accuracy: 98.38%, Val Loss: 0.5808, Val Accuracy: 100.00%\n",
            "Epoch 98/100, Train Loss: 0.1977, Train Accuracy: 98.75%, Val Loss: 0.6118, Val Accuracy: 100.00%\n",
            "Epoch 99/100, Train Loss: 0.2049, Train Accuracy: 98.44%, Val Loss: 0.3992, Val Accuracy: 100.00%\n",
            "Epoch 100/100, Train Loss: 0.1917, Train Accuracy: 98.25%, Val Loss: 0.4917, Val Accuracy: 99.94%\n"
          ]
        }
      ]
    },
    {
      "cell_type": "code",
      "source": [
        "import matplotlib.pyplot as plt\n",
        "\n",
        "fig, ax = plt.subplots(1, 2, figsize=(15, 5))\n",
        "\n",
        "# Plotting training and validation accuracy\n",
        "ax[0].plot(train_accuracies)\n",
        "ax[0].plot(val_accuracies)\n",
        "ax[0].set_title('CE Model Accuracy')\n",
        "ax[0].set_xlabel('Epochs')\n",
        "ax[0].set_ylabel('Accuracy')\n",
        "ax[0].legend(['Train', 'Val'])\n",
        "\n",
        "# Plotting training and validation loss\n",
        "ax[1].plot(train_losses)\n",
        "ax[1].plot(val_losses)\n",
        "ax[1].set_title('CE Model Loss')\n",
        "ax[1].set_xlabel('Epochs')\n",
        "ax[1].set_ylabel('Loss')\n",
        "ax[1].legend(['Train', 'Val'])\n",
        "\n",
        "plt.show()"
      ],
      "metadata": {
        "colab": {
          "base_uri": "https://localhost:8080/",
          "height": 343
        },
        "id": "ile_nr9WQQas",
        "outputId": "ffc59540-1334-44eb-9bcb-821059d0e606"
      },
      "execution_count": null,
      "outputs": [
        {
          "output_type": "display_data",
          "data": {
            "text/plain": [
              "<Figure size 1500x500 with 2 Axes>"
            ],
            "image/png": "[encoded data removed]"
          },
          "metadata": {}
        }
      ]
    },
    {
      "cell_type": "markdown",
      "source": [
        "#BCE"
      ],
      "metadata": {
        "id": "HrFo_9axQSmM"
      }
    },
    {
      "cell_type": "code",
      "source": [
        "# # Download dataset\n",
        "!wget https://raw.githubusercontent.com/TacoXDD/homeworks/master/dataset/train/normal.npy\n",
        "# !wget https://raw.githubusercontent.com/TacoXDD/homeworks/master/dataset/train/pneumonia.npy"
      ],
      "metadata": {
        "colab": {
          "base_uri": "https://localhost:8080/"
        },
        "id": "qyVrOygNQVWs",
        "outputId": "39c19a2b-44dc-4db0-e340-d6180ae78eca"
      },
      "execution_count": null,
      "outputs": [
        {
          "output_type": "stream",
          "name": "stdout",
          "text": [
            "--2023-10-14 17:47:43--  https://raw.githubusercontent.com/TacoXDD/homeworks/master/dataset/train/normal.npy\n",
            "Resolving raw.githubusercontent.com (raw.githubusercontent.com)... 185.199.108.133, 185.199.109.133, 185.199.110.133, ...\n",
            "Connecting to raw.githubusercontent.com (raw.githubusercontent.com)|185.199.108.133|:443... connected.\n",
            "HTTP request sent, awaiting response... 200 OK\n",
            "Length: 65536128 (62M) [application/octet-stream]\n",
            "Saving to: ‘normal.npy.1’\n",
            "\n",
            "normal.npy.1        100%[===================>]  62.50M   254MB/s    in 0.2s    \n",
            "\n",
            "2023-10-14 17:47:43 (254 MB/s) - ‘normal.npy.1’ saved [65536128/65536128]\n",
            "\n"
          ]
        }
      ]
    },
    {
      "cell_type": "code",
      "source": [
        "import torch\n",
        "from torch.utils.data import DataLoader, TensorDataset, random_split\n",
        "\n",
        "import numpy as np\n",
        "\n",
        "# Load Dataset\n",
        "abnormal_scans = np.load('pneumonia.npy')\n",
        "normal_scans = np.load('normal.npy')\n",
        "\n",
        "print(f'Shape of abnormal_scans: {abnormal_scans.shape}')\n",
        "print(f'Shape of normal_scans: {normal_scans.shape}')\n",
        "\n",
        "# For the data having presence of pneumonia assign 1, for the normal ones assign 0.\n",
        "\n",
        "abnormal_labels = np.ones((abnormal_scans.shape[0],))\n",
        "normal_labels = np.zeros((normal_scans.shape[0],))\n",
        "\n",
        "split_point = 800\n",
        "\n",
        "x_train = np.concatenate((abnormal_scans[:split_point], normal_scans[:split_point]), axis=0)\n",
        "y_train = np.concatenate((abnormal_labels[:split_point], normal_labels[:split_point]), axis=0)\n",
        "x_val = np.concatenate((abnormal_scans[split_point:], normal_scans[split_point:]), axis=0)\n",
        "y_val = np.concatenate((abnormal_labels[split_point:], normal_labels[split_point:]), axis=0)\n",
        "\n",
        "# Convert to PyTorch tensors\n",
        "x_train = torch.from_numpy(x_train).float()\n",
        "y_train = torch.from_numpy(y_train).long()\n",
        "x_val = torch.from_numpy(x_val).float()\n",
        "y_val = torch.from_numpy(y_val).long()\n",
        "\n",
        "# Create datasets\n",
        "train_dataset = TensorDataset(x_train, y_train)\n",
        "val_dataset = TensorDataset(x_val, y_val)\n",
        "\n",
        "# Create dataloaders\n",
        "train_loader = DataLoader(train_dataset, batch_size=32, shuffle=True)\n",
        "val_loader = DataLoader(val_dataset, batch_size=32, shuffle=False)\n",
        "\n",
        "print(f'Number of samples in train and validation are {len(train_loader.dataset)} and {len(val_loader.dataset)}.')\n",
        "print(f'X_train: max value is {x_train.max().item()}, min value is {x_train.min().item()}, data type is {x_train.dtype}.')"
      ],
      "metadata": {
        "colab": {
          "base_uri": "https://localhost:8080/"
        },
        "id": "6ZgtDzlRQVkM",
        "outputId": "a3464a34-19d9-4668-aadd-463eda757003"
      },
      "execution_count": null,
      "outputs": [
        {
          "output_type": "stream",
          "name": "stdout",
          "text": [
            "Shape of abnormal_scans: (1000, 256, 256)\n",
            "Shape of normal_scans: (1000, 256, 256)\n",
            "Number of samples in train and validation are 1600 and 400.\n",
            "X_train: max value is 255.0, min value is 0.0, data type is torch.float32.\n"
          ]
        }
      ]
    },
    {
      "cell_type": "code",
      "source": [
        "import torch.nn as nn\n",
        "\n",
        "# Model in Lab 2\n",
        "# model = nn.Sequential(\n",
        "#     nn.Flatten(),\n",
        "#     nn.Linear(256*256*1, 256),\n",
        "#     nn.ReLU(),\n",
        "#     nn.Linear(256, 1)\n",
        "# ).cuda()\n",
        "\n",
        "model = nn.Sequential(\n",
        "    nn.Flatten(),\n",
        "\n",
        "    nn.Linear(256*256*1, 64),\n",
        "    nn.BatchNorm1d(64),\n",
        "    nn.ReLU(),\n",
        "    nn.Dropout(0.5),\n",
        "\n",
        "    nn.Linear(64, 64),\n",
        "    nn.BatchNorm1d(64),\n",
        "    nn.ReLU(),\n",
        "    nn.Dropout(0.5),\n",
        "\n",
        "    nn.Linear(64, 64),\n",
        "    nn.BatchNorm1d(64),\n",
        "    nn.ReLU(),\n",
        "    nn.Dropout(0.5),\n",
        "\n",
        "    nn.Linear(64, 1)\n",
        ").cuda()\n",
        "\n",
        "print(model)"
      ],
      "metadata": {
        "id": "1T9B5jOPQV2l",
        "colab": {
          "base_uri": "https://localhost:8080/"
        },
        "outputId": "cae465f3-6dcf-41c7-82e5-2f0c00e6e0ba"
      },
      "execution_count": null,
      "outputs": [
        {
          "output_type": "stream",
          "name": "stdout",
          "text": [
            "Sequential(\n",
            "  (0): Flatten(start_dim=1, end_dim=-1)\n",
            "  (1): Linear(in_features=65536, out_features=64, bias=True)\n",
            "  (2): BatchNorm1d(64, eps=1e-05, momentum=0.1, affine=True, track_running_stats=True)\n",
            "  (3): ReLU()\n",
            "  (4): Dropout(p=0.5, inplace=False)\n",
            "  (5): Linear(in_features=64, out_features=64, bias=True)\n",
            "  (6): BatchNorm1d(64, eps=1e-05, momentum=0.1, affine=True, track_running_stats=True)\n",
            "  (7): ReLU()\n",
            "  (8): Dropout(p=0.5, inplace=False)\n",
            "  (9): Linear(in_features=64, out_features=64, bias=True)\n",
            "  (10): BatchNorm1d(64, eps=1e-05, momentum=0.1, affine=True, track_running_stats=True)\n",
            "  (11): ReLU()\n",
            "  (12): Dropout(p=0.5, inplace=False)\n",
            "  (13): Linear(in_features=64, out_features=1, bias=True)\n",
            ")\n"
          ]
        }
      ]
    },
    {
      "cell_type": "code",
      "source": [
        "import torch.optim as optim\n",
        "from torch.optim.lr_scheduler import CosineAnnealingLR, StepLR\n",
        "\n",
        "train_losses = []\n",
        "val_losses = []\n",
        "train_accuracies = []\n",
        "val_accuracies = []\n",
        "\n",
        "epochs = 100\n",
        "best_val_loss = float('inf')\n",
        "\n",
        "# Criterion and Optimizer\n",
        "criterion = nn.BCEWithLogitsLoss()\n",
        "optimizer = optim.Adam(model.parameters(), lr=1e-5)\n",
        "lr_scheduler = CosineAnnealingLR(optimizer, T_max=len(train_loader)*epochs, eta_min=0)\n",
        "# lr_scheduler = StepLR(optimizer, step_size=10, gamma=0.1)\n",
        "\n",
        "for epoch in range(epochs):\n",
        "    # Training\n",
        "    model.train()\n",
        "    total_loss = 0.0\n",
        "    train_correct = 0\n",
        "    total_train_samples = 0\n",
        "\n",
        "    for images, labels in train_loader:\n",
        "        images = images.cuda()\n",
        "        images = images / 255.\n",
        "        labels = labels.cuda()\n",
        "        optimizer.zero_grad()\n",
        "        outputs = model(images)\n",
        "\n",
        "        labels = labels.float().unsqueeze(1)\n",
        "\n",
        "        loss = criterion(outputs, labels)\n",
        "        loss.backward()\n",
        "        optimizer.step()\n",
        "        total_loss += loss.item()\n",
        "\n",
        "        train_predicted = torch.sigmoid(outputs) > 0.5\n",
        "        train_correct += (train_predicted.float() == labels).sum().item()\n",
        "        total_train_samples += labels.size(0)\n",
        "\n",
        "    avg_train_loss = total_loss / len(train_loader)\n",
        "    train_accuracy = 100. * train_correct / total_train_samples\n",
        "\n",
        "    # Validation\n",
        "    model.eval()\n",
        "    total_val_loss = 0.0\n",
        "    correct = 0\n",
        "    total = 0\n",
        "    with torch.no_grad():\n",
        "        for images, labels in val_loader:\n",
        "            images = images.cuda()\n",
        "            images = images / 255.\n",
        "            labels = labels.cuda()\n",
        "            outputs = model(images)\n",
        "\n",
        "            labels = labels.float().unsqueeze(1)\n",
        "\n",
        "            loss = criterion(outputs, labels)\n",
        "            total_val_loss += loss.item()\n",
        "\n",
        "            predicted = torch.sigmoid(outputs) > 0.5\n",
        "            correct += (predicted.float() == labels).sum().item()\n",
        "            total += labels.size(0)\n",
        "\n",
        "    avg_val_loss = total_val_loss / len(val_loader)\n",
        "    val_accuracy = 100. * correct / total\n",
        "\n",
        "    print(f'Epoch {epoch+1}/{epochs}, Train Loss: {avg_train_loss:.4f}, Train Accuracy: {train_accuracy:.2f}%, Val Loss: {avg_val_loss:.4f}, Val Accuracy: {val_accuracy:.2f}%')\n",
        "\n",
        "    # Learning rate update\n",
        "    lr_scheduler.step()\n",
        "\n",
        "    # Checkpoint\n",
        "    if avg_val_loss < best_val_loss:\n",
        "        best_val_loss = avg_val_loss\n",
        "        torch.save(model.state_dict(), 'model_classification02.pth')\n",
        "\n",
        "    # Store performance\n",
        "    train_losses.append(avg_train_loss)\n",
        "    train_accuracies.append(train_accuracy)\n",
        "    val_losses.append(avg_val_loss)\n",
        "    val_accuracies.append(val_accuracy)"
      ],
      "metadata": {
        "id": "Cr6PtLhRQelO",
        "colab": {
          "base_uri": "https://localhost:8080/"
        },
        "outputId": "14c49be5-e9ea-4e62-8cf1-a42ecf4447a8"
      },
      "execution_count": null,
      "outputs": [
        {
          "output_type": "stream",
          "name": "stdout",
          "text": [
            "Epoch 1/100, Train Loss: 0.0171, Train Accuracy: 99.19%, Val Loss: 0.2146, Val Accuracy: 94.00%\n",
            "Epoch 2/100, Train Loss: 0.0332, Train Accuracy: 99.12%, Val Loss: 0.2057, Val Accuracy: 95.00%\n",
            "Epoch 3/100, Train Loss: 0.0192, Train Accuracy: 99.50%, Val Loss: 0.2000, Val Accuracy: 94.25%\n",
            "Epoch 4/100, Train Loss: 0.0238, Train Accuracy: 99.12%, Val Loss: 0.2125, Val Accuracy: 94.00%\n",
            "Epoch 5/100, Train Loss: 0.0288, Train Accuracy: 99.12%, Val Loss: 0.2097, Val Accuracy: 94.25%\n",
            "Epoch 6/100, Train Loss: 0.0169, Train Accuracy: 99.25%, Val Loss: 0.2114, Val Accuracy: 94.25%\n",
            "Epoch 7/100, Train Loss: 0.0121, Train Accuracy: 99.56%, Val Loss: 0.2070, Val Accuracy: 94.00%\n",
            "Epoch 8/100, Train Loss: 0.0112, Train Accuracy: 99.69%, Val Loss: 0.2009, Val Accuracy: 94.25%\n",
            "Epoch 9/100, Train Loss: 0.0125, Train Accuracy: 99.75%, Val Loss: 0.1940, Val Accuracy: 94.25%\n",
            "Epoch 10/100, Train Loss: 0.0220, Train Accuracy: 99.38%, Val Loss: 0.2026, Val Accuracy: 94.25%\n",
            "Epoch 11/100, Train Loss: 0.0090, Train Accuracy: 99.75%, Val Loss: 0.1951, Val Accuracy: 94.25%\n",
            "Epoch 12/100, Train Loss: 0.0196, Train Accuracy: 99.31%, Val Loss: 0.1976, Val Accuracy: 94.25%\n",
            "Epoch 13/100, Train Loss: 0.0112, Train Accuracy: 99.62%, Val Loss: 0.1922, Val Accuracy: 94.25%\n",
            "Epoch 14/100, Train Loss: 0.0122, Train Accuracy: 99.50%, Val Loss: 0.2001, Val Accuracy: 94.00%\n",
            "Epoch 15/100, Train Loss: 0.0068, Train Accuracy: 99.81%, Val Loss: 0.1943, Val Accuracy: 94.25%\n",
            "Epoch 16/100, Train Loss: 0.0205, Train Accuracy: 99.25%, Val Loss: 0.2001, Val Accuracy: 94.25%\n",
            "Epoch 17/100, Train Loss: 0.0095, Train Accuracy: 99.75%, Val Loss: 0.2039, Val Accuracy: 94.00%\n",
            "Epoch 18/100, Train Loss: 0.0192, Train Accuracy: 99.19%, Val Loss: 0.1943, Val Accuracy: 94.25%\n",
            "Epoch 19/100, Train Loss: 0.0162, Train Accuracy: 99.50%, Val Loss: 0.1916, Val Accuracy: 94.25%\n",
            "Epoch 20/100, Train Loss: 0.0147, Train Accuracy: 99.62%, Val Loss: 0.1915, Val Accuracy: 94.25%\n",
            "Epoch 21/100, Train Loss: 0.0144, Train Accuracy: 99.56%, Val Loss: 0.1930, Val Accuracy: 94.25%\n",
            "Epoch 22/100, Train Loss: 0.0230, Train Accuracy: 99.31%, Val Loss: 0.1915, Val Accuracy: 94.25%\n",
            "Epoch 23/100, Train Loss: 0.0123, Train Accuracy: 99.56%, Val Loss: 0.1951, Val Accuracy: 94.25%\n",
            "Epoch 24/100, Train Loss: 0.0121, Train Accuracy: 99.50%, Val Loss: 0.1854, Val Accuracy: 94.25%\n",
            "Epoch 25/100, Train Loss: 0.0195, Train Accuracy: 99.44%, Val Loss: 0.1865, Val Accuracy: 94.50%\n",
            "Epoch 26/100, Train Loss: 0.0133, Train Accuracy: 99.38%, Val Loss: 0.1826, Val Accuracy: 94.75%\n",
            "Epoch 27/100, Train Loss: 0.0095, Train Accuracy: 99.81%, Val Loss: 0.2013, Val Accuracy: 94.00%\n",
            "Epoch 28/100, Train Loss: 0.0114, Train Accuracy: 99.75%, Val Loss: 0.1855, Val Accuracy: 94.25%\n",
            "Epoch 29/100, Train Loss: 0.0089, Train Accuracy: 99.75%, Val Loss: 0.2000, Val Accuracy: 94.00%\n",
            "Epoch 30/100, Train Loss: 0.0272, Train Accuracy: 99.12%, Val Loss: 0.1899, Val Accuracy: 94.25%\n",
            "Epoch 31/100, Train Loss: 0.0112, Train Accuracy: 99.69%, Val Loss: 0.1959, Val Accuracy: 94.50%\n",
            "Epoch 32/100, Train Loss: 0.0073, Train Accuracy: 99.81%, Val Loss: 0.1990, Val Accuracy: 94.00%\n",
            "Epoch 33/100, Train Loss: 0.0067, Train Accuracy: 99.88%, Val Loss: 0.1891, Val Accuracy: 94.50%\n",
            "Epoch 34/100, Train Loss: 0.0147, Train Accuracy: 99.56%, Val Loss: 0.1927, Val Accuracy: 94.25%\n",
            "Epoch 35/100, Train Loss: 0.0128, Train Accuracy: 99.50%, Val Loss: 0.2171, Val Accuracy: 94.50%\n",
            "Epoch 36/100, Train Loss: 0.0111, Train Accuracy: 99.69%, Val Loss: 0.1885, Val Accuracy: 94.75%\n",
            "Epoch 37/100, Train Loss: 0.0085, Train Accuracy: 99.69%, Val Loss: 0.1886, Val Accuracy: 94.25%\n",
            "Epoch 38/100, Train Loss: 0.0117, Train Accuracy: 99.56%, Val Loss: 0.1943, Val Accuracy: 94.50%\n",
            "Epoch 39/100, Train Loss: 0.0115, Train Accuracy: 99.62%, Val Loss: 0.2013, Val Accuracy: 94.00%\n",
            "Epoch 40/100, Train Loss: 0.0148, Train Accuracy: 99.69%, Val Loss: 0.1944, Val Accuracy: 94.25%\n",
            "Epoch 41/100, Train Loss: 0.0130, Train Accuracy: 99.62%, Val Loss: 0.2072, Val Accuracy: 94.25%\n",
            "Epoch 42/100, Train Loss: 0.0099, Train Accuracy: 99.75%, Val Loss: 0.2015, Val Accuracy: 94.00%\n",
            "Epoch 43/100, Train Loss: 0.0140, Train Accuracy: 99.50%, Val Loss: 0.1909, Val Accuracy: 94.50%\n",
            "Epoch 44/100, Train Loss: 0.0109, Train Accuracy: 99.81%, Val Loss: 0.1974, Val Accuracy: 94.25%\n",
            "Epoch 45/100, Train Loss: 0.0149, Train Accuracy: 99.56%, Val Loss: 0.2109, Val Accuracy: 94.00%\n",
            "Epoch 46/100, Train Loss: 0.0058, Train Accuracy: 99.75%, Val Loss: 0.1910, Val Accuracy: 94.50%\n",
            "Epoch 47/100, Train Loss: 0.0088, Train Accuracy: 99.75%, Val Loss: 0.1880, Val Accuracy: 94.25%\n",
            "Epoch 48/100, Train Loss: 0.0102, Train Accuracy: 99.56%, Val Loss: 0.1865, Val Accuracy: 95.00%\n",
            "Epoch 49/100, Train Loss: 0.0135, Train Accuracy: 99.69%, Val Loss: 0.1859, Val Accuracy: 94.50%\n",
            "Epoch 50/100, Train Loss: 0.0154, Train Accuracy: 99.44%, Val Loss: 0.1887, Val Accuracy: 94.25%\n",
            "Epoch 51/100, Train Loss: 0.0122, Train Accuracy: 99.62%, Val Loss: 0.1836, Val Accuracy: 94.75%\n",
            "Epoch 52/100, Train Loss: 0.0099, Train Accuracy: 99.56%, Val Loss: 0.1868, Val Accuracy: 94.25%\n",
            "Epoch 53/100, Train Loss: 0.0214, Train Accuracy: 99.31%, Val Loss: 0.1837, Val Accuracy: 94.25%\n",
            "Epoch 54/100, Train Loss: 0.0081, Train Accuracy: 99.88%, Val Loss: 0.2018, Val Accuracy: 94.25%\n",
            "Epoch 55/100, Train Loss: 0.0102, Train Accuracy: 99.75%, Val Loss: 0.1785, Val Accuracy: 94.50%\n",
            "Epoch 56/100, Train Loss: 0.0144, Train Accuracy: 99.56%, Val Loss: 0.1861, Val Accuracy: 94.00%\n",
            "Epoch 57/100, Train Loss: 0.0074, Train Accuracy: 99.75%, Val Loss: 0.1764, Val Accuracy: 94.25%\n",
            "Epoch 58/100, Train Loss: 0.0143, Train Accuracy: 99.62%, Val Loss: 0.1810, Val Accuracy: 94.25%\n",
            "Epoch 59/100, Train Loss: 0.0139, Train Accuracy: 99.75%, Val Loss: 0.1943, Val Accuracy: 94.00%\n",
            "Epoch 60/100, Train Loss: 0.0093, Train Accuracy: 99.69%, Val Loss: 0.1851, Val Accuracy: 94.25%\n",
            "Epoch 61/100, Train Loss: 0.0187, Train Accuracy: 99.44%, Val Loss: 0.1837, Val Accuracy: 94.50%\n",
            "Epoch 62/100, Train Loss: 0.0091, Train Accuracy: 99.81%, Val Loss: 0.1849, Val Accuracy: 94.25%\n",
            "Epoch 63/100, Train Loss: 0.0069, Train Accuracy: 99.94%, Val Loss: 0.1900, Val Accuracy: 94.00%\n",
            "Epoch 64/100, Train Loss: 0.0060, Train Accuracy: 99.75%, Val Loss: 0.1793, Val Accuracy: 94.50%\n",
            "Epoch 65/100, Train Loss: 0.0095, Train Accuracy: 99.75%, Val Loss: 0.1903, Val Accuracy: 94.25%\n",
            "Epoch 66/100, Train Loss: 0.0100, Train Accuracy: 99.56%, Val Loss: 0.1861, Val Accuracy: 94.75%\n",
            "Epoch 67/100, Train Loss: 0.0097, Train Accuracy: 99.75%, Val Loss: 0.1911, Val Accuracy: 94.25%\n",
            "Epoch 68/100, Train Loss: 0.0066, Train Accuracy: 99.81%, Val Loss: 0.1884, Val Accuracy: 94.25%\n",
            "Epoch 69/100, Train Loss: 0.0065, Train Accuracy: 99.81%, Val Loss: 0.1916, Val Accuracy: 94.00%\n",
            "Epoch 70/100, Train Loss: 0.0120, Train Accuracy: 99.50%, Val Loss: 0.1850, Val Accuracy: 94.50%\n",
            "Epoch 71/100, Train Loss: 0.0236, Train Accuracy: 99.19%, Val Loss: 0.1799, Val Accuracy: 94.75%\n",
            "Epoch 72/100, Train Loss: 0.0064, Train Accuracy: 99.94%, Val Loss: 0.1804, Val Accuracy: 94.25%\n",
            "Epoch 73/100, Train Loss: 0.0086, Train Accuracy: 99.69%, Val Loss: 0.1833, Val Accuracy: 94.50%\n",
            "Epoch 74/100, Train Loss: 0.0098, Train Accuracy: 99.62%, Val Loss: 0.1849, Val Accuracy: 94.50%\n",
            "Epoch 75/100, Train Loss: 0.0056, Train Accuracy: 100.00%, Val Loss: 0.1881, Val Accuracy: 94.50%\n",
            "Epoch 76/100, Train Loss: 0.0152, Train Accuracy: 99.50%, Val Loss: 0.1858, Val Accuracy: 95.00%\n",
            "Epoch 77/100, Train Loss: 0.0149, Train Accuracy: 99.44%, Val Loss: 0.1899, Val Accuracy: 94.50%\n",
            "Epoch 78/100, Train Loss: 0.0084, Train Accuracy: 99.75%, Val Loss: 0.1955, Val Accuracy: 94.25%\n",
            "Epoch 79/100, Train Loss: 0.0077, Train Accuracy: 99.69%, Val Loss: 0.1849, Val Accuracy: 94.75%\n",
            "Epoch 80/100, Train Loss: 0.0107, Train Accuracy: 99.62%, Val Loss: 0.1885, Val Accuracy: 94.25%\n",
            "Epoch 81/100, Train Loss: 0.0114, Train Accuracy: 99.69%, Val Loss: 0.1873, Val Accuracy: 94.25%\n",
            "Epoch 82/100, Train Loss: 0.0075, Train Accuracy: 99.88%, Val Loss: 0.1920, Val Accuracy: 94.00%\n",
            "Epoch 83/100, Train Loss: 0.0070, Train Accuracy: 99.88%, Val Loss: 0.1833, Val Accuracy: 94.00%\n",
            "Epoch 84/100, Train Loss: 0.0130, Train Accuracy: 99.50%, Val Loss: 0.1817, Val Accuracy: 94.75%\n",
            "Epoch 85/100, Train Loss: 0.0116, Train Accuracy: 99.69%, Val Loss: 0.1830, Val Accuracy: 94.25%\n",
            "Epoch 86/100, Train Loss: 0.0110, Train Accuracy: 99.69%, Val Loss: 0.1990, Val Accuracy: 94.25%\n",
            "Epoch 87/100, Train Loss: 0.0090, Train Accuracy: 99.69%, Val Loss: 0.1918, Val Accuracy: 94.00%\n",
            "Epoch 88/100, Train Loss: 0.0105, Train Accuracy: 99.62%, Val Loss: 0.1785, Val Accuracy: 95.25%\n",
            "Epoch 89/100, Train Loss: 0.0088, Train Accuracy: 99.69%, Val Loss: 0.1873, Val Accuracy: 94.25%\n",
            "Epoch 90/100, Train Loss: 0.0114, Train Accuracy: 99.62%, Val Loss: 0.1915, Val Accuracy: 94.25%\n",
            "Epoch 91/100, Train Loss: 0.0100, Train Accuracy: 99.69%, Val Loss: 0.1775, Val Accuracy: 95.25%\n",
            "Epoch 92/100, Train Loss: 0.0138, Train Accuracy: 99.50%, Val Loss: 0.1973, Val Accuracy: 94.25%\n",
            "Epoch 93/100, Train Loss: 0.0066, Train Accuracy: 99.88%, Val Loss: 0.1852, Val Accuracy: 94.25%\n",
            "Epoch 94/100, Train Loss: 0.0090, Train Accuracy: 99.81%, Val Loss: 0.1821, Val Accuracy: 95.25%\n",
            "Epoch 95/100, Train Loss: 0.0105, Train Accuracy: 99.62%, Val Loss: 0.1896, Val Accuracy: 94.25%\n",
            "Epoch 96/100, Train Loss: 0.0062, Train Accuracy: 99.81%, Val Loss: 0.1809, Val Accuracy: 94.25%\n",
            "Epoch 97/100, Train Loss: 0.0090, Train Accuracy: 99.56%, Val Loss: 0.1863, Val Accuracy: 94.25%\n",
            "Epoch 98/100, Train Loss: 0.0075, Train Accuracy: 99.75%, Val Loss: 0.1843, Val Accuracy: 94.50%\n",
            "Epoch 99/100, Train Loss: 0.0086, Train Accuracy: 99.81%, Val Loss: 0.1867, Val Accuracy: 94.50%\n",
            "Epoch 100/100, Train Loss: 0.0106, Train Accuracy: 99.81%, Val Loss: 0.1882, Val Accuracy: 95.00%\n"
          ]
        }
      ]
    },
    {
      "cell_type": "code",
      "source": [
        "import matplotlib.pyplot as plt\n",
        "\n",
        "fig, ax = plt.subplots(1, 2, figsize=(15, 5))\n",
        "\n",
        "# Plotting training and validation accuracy\n",
        "ax[0].plot(train_accuracies)\n",
        "ax[0].plot(val_accuracies)\n",
        "ax[0].set_title('BCE Model Accuracy')\n",
        "ax[0].set_xlabel('Epochs')\n",
        "ax[0].set_ylabel('Accuracy')\n",
        "ax[0].legend(['Train', 'Val'])\n",
        "\n",
        "# Plotting training and validation loss\n",
        "ax[1].plot(train_losses)\n",
        "ax[1].plot(val_losses)\n",
        "ax[1].set_title('BCE Model Loss')\n",
        "ax[1].set_xlabel('Epochs')\n",
        "ax[1].set_ylabel('Loss')\n",
        "ax[1].legend(['Train', 'Val'])\n",
        "\n",
        "plt.show()"
      ],
      "metadata": {
        "colab": {
          "base_uri": "https://localhost:8080/",
          "height": 343
        },
        "id": "CMBgtcr_Qgd2",
        "outputId": "d157f56f-67b8-44f0-8bb5-acf8cbb45c9a"
      },
      "execution_count": null,
      "outputs": [
        {
          "output_type": "display_data",
          "data": {
            "text/plain": [
              "<Figure size 1500x500 with 2 Axes>"
            ],
            "image/png": "[encoded data removed]"
          },
          "metadata": {}
        }
      ]
    }
  ],
  "metadata": {
    "accelerator": "GPU",
    "colab": {
      "gpuType": "T4",
      "provenance": []
    },
    "kernelspec": {
      "display_name": "Python 3",
      "name": "python3"
    },
    "language_info": {
      "codemirror_mode": {
        "name": "ipython",
        "version": 3
      },
      "file_extension": ".py",
      "mimetype": "text/x-python",
      "name": "python",
      "nbconvert_exporter": "python",
      "pygments_lexer": "ipython3",
      "version": "3.8.13"
    }
  },
  "nbformat": 4,
  "nbformat_minor": 0
}